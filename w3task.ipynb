{
 "cells": [
  {
   "cell_type": "code",
   "execution_count": 1,
   "id": "b365a082",
   "metadata": {},
   "outputs": [
    {
     "data": {
      "text/plain": [
       "True"
      ]
     },
     "execution_count": 1,
     "metadata": {},
     "output_type": "execute_result"
    }
   ],
   "source": [
    "10<100"
   ]
  },
  {
   "cell_type": "code",
   "execution_count": 2,
   "id": "0f6538ca",
   "metadata": {},
   "outputs": [
    {
     "data": {
      "text/plain": [
       "False"
      ]
     },
     "execution_count": 2,
     "metadata": {},
     "output_type": "execute_result"
    }
   ],
   "source": [
    "100 !=100"
   ]
  },
  {
   "cell_type": "code",
   "execution_count": 3,
   "id": "55b38a1b",
   "metadata": {},
   "outputs": [
    {
     "data": {
      "text/plain": [
       "True"
      ]
     },
     "execution_count": 3,
     "metadata": {},
     "output_type": "execute_result"
    }
   ],
   "source": [
    "50 >= 50"
   ]
  },
  {
   "cell_type": "markdown",
   "id": "c9baa5da",
   "metadata": {},
   "source": [
    "task"
   ]
  },
  {
   "cell_type": "code",
   "execution_count": 7,
   "id": "c7a48003",
   "metadata": {},
   "outputs": [
    {
     "name": "stdout",
     "output_type": "stream",
     "text": [
      "enter your age :20\n"
     ]
    }
   ],
   "source": [
    "age = int(input(\"enter your age :\"))"
   ]
  },
  {
   "cell_type": "code",
   "execution_count": 8,
   "id": "935b49c0",
   "metadata": {},
   "outputs": [
    {
     "data": {
      "text/plain": [
       "False"
      ]
     },
     "execution_count": 8,
     "metadata": {},
     "output_type": "execute_result"
    }
   ],
   "source": [
    "age<18"
   ]
  },
  {
   "cell_type": "markdown",
   "id": "7b76f71c",
   "metadata": {},
   "source": [
    "age < 21"
   ]
  },
  {
   "cell_type": "code",
   "execution_count": 10,
   "id": "f88da57e",
   "metadata": {},
   "outputs": [
    {
     "data": {
      "text/plain": [
       "True"
      ]
     },
     "execution_count": 10,
     "metadata": {},
     "output_type": "execute_result"
    }
   ],
   "source": [
    "age < 31"
   ]
  },
  {
   "cell_type": "markdown",
   "id": "1e8d308d",
   "metadata": {},
   "source": [
    "task"
   ]
  },
  {
   "cell_type": "code",
   "execution_count": 12,
   "id": "87d5f971",
   "metadata": {},
   "outputs": [
    {
     "data": {
      "text/plain": [
       "True"
      ]
     },
     "execution_count": 12,
     "metadata": {},
     "output_type": "execute_result"
    }
   ],
   "source": [
    "\"a\" < \"b\""
   ]
  },
  {
   "cell_type": "code",
   "execution_count": 13,
   "id": "2a0d4d5e",
   "metadata": {},
   "outputs": [
    {
     "data": {
      "text/plain": [
       "False"
      ]
     },
     "execution_count": 13,
     "metadata": {},
     "output_type": "execute_result"
    }
   ],
   "source": [
    "\"b\" < \"a\""
   ]
  },
  {
   "cell_type": "code",
   "execution_count": 14,
   "id": "e898373f",
   "metadata": {},
   "outputs": [
    {
     "data": {
      "text/plain": [
       "True"
      ]
     },
     "execution_count": 14,
     "metadata": {},
     "output_type": "execute_result"
    }
   ],
   "source": [
    "\"John\" < \"Terry\""
   ]
  },
  {
   "cell_type": "markdown",
   "id": "90980666",
   "metadata": {},
   "source": [
    "Task"
   ]
  },
  {
   "cell_type": "code",
   "execution_count": 16,
   "id": "fb4b25fa",
   "metadata": {},
   "outputs": [
    {
     "data": {
      "text/plain": [
       "False"
      ]
     },
     "execution_count": 16,
     "metadata": {},
     "output_type": "execute_result"
    }
   ],
   "source": [
    "\"john\" < \"Terry\""
   ]
  },
  {
   "cell_type": "code",
   "execution_count": 22,
   "id": "5e8e5266",
   "metadata": {},
   "outputs": [
    {
     "data": {
      "text/plain": [
       "False"
      ]
     },
     "execution_count": 22,
     "metadata": {},
     "output_type": "execute_result"
    }
   ],
   "source": [
    "[1,2,3] < [1,2,3]"
   ]
  },
  {
   "cell_type": "code",
   "execution_count": 18,
   "id": "3a3fedf5",
   "metadata": {},
   "outputs": [
    {
     "data": {
      "text/plain": [
       "True"
      ]
     },
     "execution_count": 18,
     "metadata": {},
     "output_type": "execute_result"
    }
   ],
   "source": [
    "[1,2,2] < [1,2,3]"
   ]
  },
  {
   "cell_type": "markdown",
   "id": "086914b3",
   "metadata": {},
   "source": [
    "task"
   ]
  },
  {
   "cell_type": "code",
   "execution_count": 23,
   "id": "b185bc79",
   "metadata": {},
   "outputs": [
    {
     "data": {
      "text/plain": [
       "True"
      ]
     },
     "execution_count": 23,
     "metadata": {},
     "output_type": "execute_result"
    }
   ],
   "source": [
    " 5 < 10.2"
   ]
  },
  {
   "cell_type": "code",
   "execution_count": 24,
   "id": "5b3486d9",
   "metadata": {},
   "outputs": [
    {
     "ename": "TypeError",
     "evalue": "'<' not supported between instances of 'int' and 'str'",
     "output_type": "error",
     "traceback": [
      "\u001b[0;31m---------------------------------------------------------------------------\u001b[0m",
      "\u001b[0;31mTypeError\u001b[0m                                 Traceback (most recent call last)",
      "\u001b[0;32m/tmp/ipykernel_4286/402152398.py\u001b[0m in \u001b[0;36m<module>\u001b[0;34m\u001b[0m\n\u001b[0;32m----> 1\u001b[0;31m \u001b[0;36m5\u001b[0m\u001b[0;34m<\u001b[0m\u001b[0;34m\"Monty\"\u001b[0m\u001b[0;34m\u001b[0m\u001b[0;34m\u001b[0m\u001b[0m\n\u001b[0m",
      "\u001b[0;31mTypeError\u001b[0m: '<' not supported between instances of 'int' and 'str'"
     ]
    }
   ],
   "source": [
    "5 <\" Monty\""
   ]
  },
  {
   "cell_type": "code",
   "execution_count": 25,
   "id": "4b9a5a20",
   "metadata": {},
   "outputs": [
    {
     "ename": "TypeError",
     "evalue": "'<' not supported between instances of 'int' and 'str'",
     "output_type": "error",
     "traceback": [
      "\u001b[0;31m---------------------------------------------------------------------------\u001b[0m",
      "\u001b[0;31mTypeError\u001b[0m                                 Traceback (most recent call last)",
      "\u001b[0;32m/tmp/ipykernel_4286/738511462.py\u001b[0m in \u001b[0;36m<module>\u001b[0;34m\u001b[0m\n\u001b[0;32m----> 1\u001b[0;31m \u001b[0;36m5\u001b[0m \u001b[0;34m<\u001b[0m \u001b[0;34m\"5\"\u001b[0m\u001b[0;34m\u001b[0m\u001b[0;34m\u001b[0m\u001b[0m\n\u001b[0m",
      "\u001b[0;31mTypeError\u001b[0m: '<' not supported between instances of 'int' and 'str'"
     ]
    }
   ],
   "source": [
    "5 < \"5\""
   ]
  },
  {
   "cell_type": "code",
   "execution_count": 27,
   "id": "ec02a810",
   "metadata": {},
   "outputs": [
    {
     "data": {
      "text/plain": [
       "False"
      ]
     },
     "execution_count": 27,
     "metadata": {},
     "output_type": "execute_result"
    }
   ],
   "source": [
    "5 == \"5\" #Python allows mixed operand types within equality (==) and inequality (!=)operators."
   ]
  },
  {
   "cell_type": "code",
   "execution_count": 28,
   "id": "12d1640b",
   "metadata": {},
   "outputs": [
    {
     "name": "stdout",
     "output_type": "stream",
     "text": [
      "enter your age :18\n"
     ]
    },
    {
     "data": {
      "text/plain": [
       "False"
      ]
     },
     "execution_count": 28,
     "metadata": {},
     "output_type": "execute_result"
    }
   ],
   "source": [
    "age == input(\"enter your age :\")"
   ]
  },
  {
   "cell_type": "markdown",
   "id": "0b681dc8",
   "metadata": {},
   "source": [
    "task"
   ]
  },
  {
   "cell_type": "code",
   "execution_count": 29,
   "id": "deb13a39",
   "metadata": {},
   "outputs": [
    {
     "data": {
      "text/plain": [
       "True"
      ]
     },
     "execution_count": 29,
     "metadata": {},
     "output_type": "execute_result"
    }
   ],
   "source": [
    "age =  30\n",
    "age >= 18 and age <=65"
   ]
  },
  {
   "cell_type": "code",
   "execution_count": 30,
   "id": "8b8f54f9",
   "metadata": {},
   "outputs": [
    {
     "data": {
      "text/plain": [
       "False"
      ]
     },
     "execution_count": 30,
     "metadata": {},
     "output_type": "execute_result"
    }
   ],
   "source": [
    "age <18 or age >65"
   ]
  },
  {
   "cell_type": "code",
   "execution_count": 31,
   "id": "0e931cf1",
   "metadata": {},
   "outputs": [
    {
     "data": {
      "text/plain": [
       "False"
      ]
     },
     "execution_count": 31,
     "metadata": {},
     "output_type": "execute_result"
    }
   ],
   "source": [
    "not age > 18"
   ]
  },
  {
   "cell_type": "code",
   "execution_count": 32,
   "id": "cef8dc56",
   "metadata": {},
   "outputs": [
    {
     "data": {
      "text/plain": [
       "False"
      ]
     },
     "execution_count": 32,
     "metadata": {},
     "output_type": "execute_result"
    }
   ],
   "source": [
    "age = 30\n",
    "(age >= 18 and age <=65) and (not age==30)"
   ]
  },
  {
   "cell_type": "markdown",
   "id": "2fdb4e3f",
   "metadata": {},
   "source": [
    "task"
   ]
  },
  {
   "cell_type": "code",
   "execution_count": 33,
   "id": "93a317f1",
   "metadata": {},
   "outputs": [
    {
     "name": "stdout",
     "output_type": "stream",
     "text": [
      "enter the weight :50\n",
      "enter the height :36.5\n"
     ]
    }
   ],
   "source": [
    "weight = float(input(\"enter the weight :\"))\n",
    "height = float(input(\"enter the height :\"))"
   ]
  },
  {
   "cell_type": "code",
   "execution_count": 34,
   "id": "2d1caa3b",
   "metadata": {},
   "outputs": [
    {
     "data": {
      "text/plain": [
       "False"
      ]
     },
     "execution_count": 34,
     "metadata": {},
     "output_type": "execute_result"
    }
   ],
   "source": [
    "100 < weight and weight <200"
   ]
  },
  {
   "cell_type": "code",
   "execution_count": 35,
   "id": "e0e84644",
   "metadata": {},
   "outputs": [
    {
     "data": {
      "text/plain": [
       "False"
      ]
     },
     "execution_count": 35,
     "metadata": {},
     "output_type": "execute_result"
    }
   ],
   "source": [
    "height > 131 and height < 160"
   ]
  },
  {
   "cell_type": "markdown",
   "id": "9b4b9e36",
   "metadata": {},
   "source": [
    "task"
   ]
  },
  {
   "cell_type": "code",
   "execution_count": 1,
   "id": "c4a94e44",
   "metadata": {},
   "outputs": [
    {
     "data": {
      "text/plain": [
       "True"
      ]
     },
     "execution_count": 1,
     "metadata": {},
     "output_type": "execute_result"
    }
   ],
   "source": [
    "names = [\"kajal\", \"kritisha\", \"kismat\"]\n",
    "\"kritisha\" in names"
   ]
  },
  {
   "cell_type": "code",
   "execution_count": 2,
   "id": "81801bce",
   "metadata": {},
   "outputs": [
    {
     "data": {
      "text/plain": [
       "False"
      ]
     },
     "execution_count": 2,
     "metadata": {},
     "output_type": "execute_result"
    }
   ],
   "source": [
    "\"kismat\" not in names"
   ]
  },
  {
   "cell_type": "code",
   "execution_count": 3,
   "id": "5c43e7d3",
   "metadata": {},
   "outputs": [
    {
     "data": {
      "text/plain": [
       "False"
      ]
     },
     "execution_count": 3,
     "metadata": {},
     "output_type": "execute_result"
    }
   ],
   "source": [
    "\"iti\" in names"
   ]
  },
  {
   "cell_type": "code",
   "execution_count": 4,
   "id": "ed32eb07",
   "metadata": {},
   "outputs": [
    {
     "data": {
      "text/plain": [
       "True"
      ]
     },
     "execution_count": 4,
     "metadata": {},
     "output_type": "execute_result"
    }
   ],
   "source": [
    "name = \"hello world\"\n",
    "\"wor\" in name"
   ]
  },
  {
   "cell_type": "code",
   "execution_count": null,
   "id": "3c9e6e83",
   "metadata": {},
   "outputs": [],
   "source": [
    "age = int(input(\"enter your age :\"))\n",
    "if 18<age<30:\n",
    "    print(\"your are still young.\")"
   ]
  },
  {
   "cell_type": "markdown",
   "id": "c355c4a1",
   "metadata": {},
   "source": [
    "task"
   ]
  },
  {
   "cell_type": "code",
   "execution_count": 12,
   "id": "39fe8245",
   "metadata": {},
   "outputs": [
    {
     "name": "stdout",
     "output_type": "stream",
     "text": [
      "you are not very old - yet\n"
     ]
    }
   ],
   "source": [
    "if age > 100:\n",
    "    print(\"you are very old,\")\n",
    "    print(\"well done!\")\n",
    "elif age > 80:\n",
    "    print(\"you are fairly old\")\n",
    "    print(\"pretty good!\")\n",
    "elif age > 40:\n",
    "    print(\"you are middle aged\")\n",
    "    print(\"never mind\")\n",
    "else:\n",
    "    print(\"you are not very old - yet\")"
   ]
  },
  {
   "cell_type": "code",
   "execution_count": 15,
   "id": "90f779b1",
   "metadata": {},
   "outputs": [
    {
     "name": "stdout",
     "output_type": "stream",
     "text": [
      "please say your age :32\n",
      "you are between 30 and 40\n"
     ]
    }
   ],
   "source": [
    "age = int(input(\"please say your age :\"))\n",
    "if age > 100:\n",
    "    print(\"you are too old .\")\n",
    "elif 30<age<40:\n",
    "    print(\"you are between 30 and 40\")\n",
    "else:\n",
    "    print(\"you are still young darling\")"
   ]
  },
  {
   "cell_type": "markdown",
   "id": "55907e16",
   "metadata": {},
   "source": [
    "task"
   ]
  },
  {
   "cell_type": "code",
   "execution_count": 11,
   "id": "006417b1",
   "metadata": {},
   "outputs": [
    {
     "name": "stdout",
     "output_type": "stream",
     "text": [
      "enter the name:\n",
      "error\n"
     ]
    }
   ],
   "source": [
    "name = input(\"enter the name:\")\n",
    "if name==\"kajal\":\n",
    "    print(\"your name is\",name)\n",
    "else:\n",
    "    print(\"error\")"
   ]
  },
  {
   "cell_type": "markdown",
   "id": "3dd23a19",
   "metadata": {},
   "source": [
    "task"
   ]
  },
  {
   "cell_type": "code",
   "execution_count": 3,
   "id": "c02b1fa5",
   "metadata": {},
   "outputs": [
    {
     "name": "stdout",
     "output_type": "stream",
     "text": [
      "enter your age :16\n",
      "you are not an adult ,yet!\n"
     ]
    }
   ],
   "source": [
    "age = int(input(\"enter your age :\"))\n",
    "print(\"you are an adult\" if age >=18 else \"you are not an adult ,yet!\")"
   ]
  },
  {
   "cell_type": "code",
   "execution_count": 21,
   "id": "9e6cd9bd",
   "metadata": {},
   "outputs": [
    {
     "name": "stdout",
     "output_type": "stream",
     "text": [
      " eric \n",
      " james \n",
      " bond \n",
      " thapa \n"
     ]
    }
   ],
   "source": [
    "\n",
    "for names in [\" eric \",\" james \",\" bond \",\" thapa \"]:\n",
    "    print(names)"
   ]
  },
  {
   "cell_type": "code",
   "execution_count": 26,
   "id": "058bf66f",
   "metadata": {},
   "outputs": [
    {
     "name": "stdout",
     "output_type": "stream",
     "text": [
      "2 to the power of 2 = 4\n",
      "4 to the power of 4 = 256\n",
      "6 to the power of 6 = 46656\n",
      "8 to the power of 8 = 16777216\n",
      "10 to the power of 10 = 10000000000\n"
     ]
    }
   ],
   "source": [
    "for n in range(2,12,2):\n",
    "    print(n,\"to the power of\",n , \"=\",n**n)"
   ]
  },
  {
   "cell_type": "code",
   "execution_count": 30,
   "id": "abf6de8e",
   "metadata": {},
   "outputs": [
    {
     "name": "stdout",
     "output_type": "stream",
     "text": [
      "10\n",
      "20\n",
      "30\n",
      "90\n",
      "200\n",
      "30\n",
      "22\n",
      "11\n"
     ]
    }
   ],
   "source": [
    "numbers = [10, 20 , 30, 90, 200, 30, 22, 11]\n",
    "for i in numbers:\n",
    "    print(i)"
   ]
  },
  {
   "cell_type": "code",
   "execution_count": 31,
   "id": "ad03bb4f",
   "metadata": {},
   "outputs": [
    {
     "name": "stdout",
     "output_type": "stream",
     "text": [
      "10\n",
      "20\n",
      "30\n",
      "90\n"
     ]
    }
   ],
   "source": [
    "numbers = [10, 20 , 30, 90, 200, 30, 22, 11]\n",
    "for i in numbers:\n",
    "    if i >100:\n",
    "        break\n",
    "    else:\n",
    "        print(i)"
   ]
  },
  {
   "cell_type": "code",
   "execution_count": 39,
   "id": "0fe7a7aa",
   "metadata": {
    "scrolled": true
   },
   "outputs": [
    {
     "name": "stdout",
     "output_type": "stream",
     "text": [
      "all the numbers are processed: 10\n",
      "all the numbers are processed: 20\n",
      "all the numbers are processed: 30\n",
      "all the numbers are processed: 90\n",
      "all the numbers are processed: 30\n",
      "all the numbers are processed: 22\n",
      "all the numbers are processed: 11\n"
     ]
    }
   ],
   "source": [
    "numbers = [10, 20 , 30, 90, 200, 30, 22, 11]\n",
    "for i in numbers:\n",
    "    if i<=100:\n",
    "        print(\"all the numbers are processed:\",i)\n",
    "        \n",
    "    else:\n",
    "        continue\n",
    "      \n",
    "        \n",
    "        "
   ]
  },
  {
   "cell_type": "markdown",
   "id": "fefe9e64",
   "metadata": {},
   "source": [
    "task"
   ]
  },
  {
   "cell_type": "markdown",
   "id": "a13bf147",
   "metadata": {},
   "source": [
    "an expression that produces a Boolean value (ie.true or false)when evaluated"
   ]
  },
  {
   "cell_type": "markdown",
   "id": "9cff4c84",
   "metadata": {},
   "source": [
    "a operator that tests or defines some kind of relation between two entities."
   ]
  },
  {
   "cell_type": "markdown",
   "id": "22739ea5",
   "metadata": {},
   "source": [
    " an operator that performs a logical conjunction on two statements. eg: and,or,not"
   ]
  },
  {
   "cell_type": "markdown",
   "id": "41ce9dde",
   "metadata": {},
   "source": [
    "allows us to access the value of a property located deep within a chain of objects without explicitly checking if each reference in the chain is null or undefined ."
   ]
  },
  {
   "cell_type": "markdown",
   "id": "762aa08a",
   "metadata": {},
   "source": [
    "used to return a value based on a condition , ﬁrst value is returned if the condition expression evaluates to True, and\n",
    "the second value is returned if it evaluates to False"
   ]
  },
  {
   "cell_type": "markdown",
   "id": "8e088f8f",
   "metadata": {},
   "source": [
    "repetition of the process."
   ]
  },
  {
   "cell_type": "markdown",
   "id": "51748724",
   "metadata": {},
   "source": [
    "loops within the loop."
   ]
  }
 ],
 "metadata": {
  "kernelspec": {
   "display_name": "Python 3 (ipykernel)",
   "language": "python",
   "name": "python3"
  },
  "language_info": {
   "codemirror_mode": {
    "name": "ipython",
    "version": 3
   },
   "file_extension": ".py",
   "mimetype": "text/x-python",
   "name": "python",
   "nbconvert_exporter": "python",
   "pygments_lexer": "ipython3",
   "version": "3.10.6"
  }
 },
 "nbformat": 4,
 "nbformat_minor": 5
}

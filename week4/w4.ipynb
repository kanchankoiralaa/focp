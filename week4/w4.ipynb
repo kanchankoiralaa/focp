{
 "cells": [
  {
   "cell_type": "code",
   "execution_count": 1,
   "id": "8c1f4a30",
   "metadata": {},
   "outputs": [
    {
     "name": "stdout",
     "output_type": "stream",
     "text": [
      "49.0\n"
     ]
    }
   ],
   "source": [
    "import math\n",
    "result = math.sqrt(2401)\n",
    "print(result)"
   ]
  },
  {
   "cell_type": "code",
   "execution_count": 2,
   "id": "96034a9f",
   "metadata": {},
   "outputs": [
    {
     "name": "stdout",
     "output_type": "stream",
     "text": [
      "10.0\n"
     ]
    }
   ],
   "source": [
    "import math\n",
    "print(math.log2(1024))"
   ]
  },
  {
   "cell_type": "code",
   "execution_count": 3,
   "id": "27a05e1e",
   "metadata": {},
   "outputs": [
    {
     "name": "stdout",
     "output_type": "stream",
     "text": [
      "hello guys\n",
      "hello guys\n"
     ]
    }
   ],
   "source": [
    "def displayTwice(msg):\n",
    "    print(msg)\n",
    "    print(msg)\n",
    "displayTwice(\"hello guys\")\n"
   ]
  },
  {
   "cell_type": "code",
   "execution_count": 4,
   "id": "9182281a",
   "metadata": {},
   "outputs": [
    {
     "name": "stdout",
     "output_type": "stream",
     "text": [
      "Help on function displayTwice in module __main__:\n",
      "\n",
      "displayTwice(msg)\n",
      "    Print the message.\n",
      "\n",
      "hello guys\n",
      "hello guys\n"
     ]
    }
   ],
   "source": [
    "def displayTwice(msg):\n",
    "    '''Print the message.'''\n",
    "    help(displayTwice)\n",
    "    print(msg)\n",
    "    print(msg)\n",
    "displayTwice(\"hello guys\")"
   ]
  },
  {
   "cell_type": "code",
   "execution_count": 14,
   "id": "3290775e",
   "metadata": {},
   "outputs": [
    {
     "name": "stdout",
     "output_type": "stream",
     "text": [
      "b is maximum\n"
     ]
    },
    {
     "data": {
      "text/plain": [
       "'20'"
      ]
     },
     "execution_count": 14,
     "metadata": {},
     "output_type": "execute_result"
    }
   ],
   "source": [
    "def findMax(a,b):\n",
    "    \"\"\"Finds the maximum of two values.\"\"\"\n",
    "    if (a>b):\n",
    "        max = a\n",
    "        print(\"a is maximum\")\n",
    "        \n",
    "    else:\n",
    "        max = b\n",
    "        print(\"b is maximum\")\n",
    "    return max\n",
    "findMax(\"10\",\"20\")\n"
   ]
  },
  {
   "cell_type": "code",
   "execution_count": 10,
   "id": "510e9b5a",
   "metadata": {},
   "outputs": [
    {
     "name": "stdout",
     "output_type": "stream",
     "text": [
      "12\n",
      "2\n",
      "4\n"
     ]
    }
   ],
   "source": [
    "def num(a,b=\"\"):\n",
    "    if b==\"\":\n",
    "        return a*a\n",
    "        \n",
    "    else:\n",
    "        return a*b\n",
    "print(num(3,4))\n",
    "print(num(1,2))\n",
    "print(num(2))"
   ]
  },
  {
   "cell_type": "code",
   "execution_count": 19,
   "id": "a18aeeed",
   "metadata": {},
   "outputs": [
    {
     "name": "stdout",
     "output_type": "stream",
     "text": [
      "x is : 1 \n",
      "y is : 2 \n",
      "z is : 3\n",
      "None\n",
      "x is : 1 \n",
      "y is : 2 \n",
      "z is : 3\n",
      "None\n"
     ]
    }
   ],
   "source": [
    "def somefunc(x,y,z):\n",
    "    print(\"x is :\",x, \"\\ny is :\",y ,\"\\nz is :\",z)\n",
    "print(somefunc(1,2,3))\n",
    "print(somefunc(y=2,z=3,x=1))\n"
   ]
  },
  {
   "cell_type": "code",
   "execution_count": 1,
   "id": "b63c57e8",
   "metadata": {},
   "outputs": [
    {
     "name": "stdout",
     "output_type": "stream",
     "text": [
      "INFO File opened  .\n",
      "ERROR File not opened  .\n",
      "INFO File missing Insert Disk Press return\n"
     ]
    }
   ],
   "source": [
    "def showMsg(title, body=\"\", prefix=\"INFO\", suffix=\".\"):\n",
    "    print(prefix,title,body,suffix)\n",
    "    \n",
    "showMsg(\"File opened\")\n",
    "showMsg(\"File not opened\", prefix=\"ERROR\" )\n",
    "showMsg(\"File missing\", body=\"Insert Disk\", suffix=\"Press return\" )"
   ]
  },
  {
   "cell_type": "code",
   "execution_count": 4,
   "id": "35497bac",
   "metadata": {},
   "outputs": [
    {
     "name": "stdout",
     "output_type": "stream",
     "text": [
      "Everyone ! Good morning \n",
      "hello ! Good morning \n"
     ]
    }
   ],
   "source": [
    "def sep(title,body=\"\",prefix=\"Everyone\",suffix=\"!\"):\n",
    "    print(prefix,suffix,title,body)\n",
    "sep(\"Good morning\")\n",
    "sep(\"Good morning\",prefix = \"hello\")"
   ]
  },
  {
   "cell_type": "code",
   "execution_count": 4,
   "id": "5e52c52b",
   "metadata": {},
   "outputs": [
    {
     "name": "stdout",
     "output_type": "stream",
     "text": [
      "15.0\n",
      "20.0\n",
      "7.5\n"
     ]
    }
   ],
   "source": [
    "def calcAve(*numbers):\n",
    "    total = 0\n",
    "    for num in numbers:\n",
    "        total += num\n",
    "    return total/len(numbers)\n",
    "print(calcAve(10,20))\n",
    "print(calcAve(20))\n",
    "print(calcAve(10,5))"
   ]
  },
  {
   "cell_type": "code",
   "execution_count": 10,
   "id": "d6f4ba52",
   "metadata": {},
   "outputs": [
    {
     "data": {
      "text/plain": [
       "5.0"
      ]
     },
     "execution_count": 10,
     "metadata": {},
     "output_type": "execute_result"
    }
   ],
   "source": [
    "import math\n",
    "hypot = lambda a,b: math.sqrt(a*a + b*b)\n",
    "hypot(3,4)"
   ]
  },
  {
   "cell_type": "code",
   "execution_count": 11,
   "id": "7793b51d",
   "metadata": {},
   "outputs": [
    {
     "data": {
      "text/plain": [
       "function"
      ]
     },
     "execution_count": 11,
     "metadata": {},
     "output_type": "execute_result"
    }
   ],
   "source": [
    "type(hypot)"
   ]
  },
  {
   "cell_type": "code",
   "execution_count": 17,
   "id": "bcdf8639",
   "metadata": {},
   "outputs": [
    {
     "name": "stdout",
     "output_type": "stream",
     "text": [
      "120\n",
      "7200\n",
      "5400\n"
     ]
    }
   ],
   "source": [
    "to_second = lambda hr,min :(hr*60*60 + min*60)\n",
    "print(to_second(0,2))\n",
    "print(to_second(2,0))\n",
    "print(to_second(1,30))"
   ]
  },
  {
   "cell_type": "code",
   "execution_count": 15,
   "id": "edc6b0f3",
   "metadata": {},
   "outputs": [
    {
     "data": {
      "text/plain": [
       "3600"
      ]
     },
     "execution_count": 15,
     "metadata": {},
     "output_type": "execute_result"
    }
   ],
   "source": [
    "to_second = lambda hr,min=0 : (hr*60*60+ min*60)\n",
    "to_second (1)"
   ]
  },
  {
   "cell_type": "markdown",
   "id": "48907f80",
   "metadata": {},
   "source": [
    "files with the “. py” extension containing Python code that can be imported inside another Python Program"
   ]
  },
  {
   "cell_type": "markdown",
   "id": "9608bf30",
   "metadata": {},
   "source": [
    "collection of script modules accessible to a Python program to simplify the programming process and removing the need to rewrite commonly used commands."
   ]
  },
  {
   "cell_type": "markdown",
   "id": "3936468c",
   "metadata": {},
   "source": [
    " name you use to refer to the actual parameter (aka argument) to the function"
   ]
  },
  {
   "cell_type": "markdown",
   "id": "9250792f",
   "metadata": {},
   "source": [
    "the parameters which are specified during the definition of the function."
   ]
  },
  {
   "cell_type": "markdown",
   "id": "c08251a6",
   "metadata": {},
   "source": [
    "Keyword arguments allow us to employ any order.\n",
    "default argument allows us to pass the default value i.e a=0."
   ]
  },
  {
   "cell_type": "markdown",
   "id": "2ee73a25",
   "metadata": {},
   "source": [
    "a short block of code which takes in parameters and returns a value."
   ]
  }
 ],
 "metadata": {
  "kernelspec": {
   "display_name": "Python 3 (ipykernel)",
   "language": "python",
   "name": "python3"
  },
  "language_info": {
   "codemirror_mode": {
    "name": "ipython",
    "version": 3
   },
   "file_extension": ".py",
   "mimetype": "text/x-python",
   "name": "python",
   "nbconvert_exporter": "python",
   "pygments_lexer": "ipython3",
   "version": "3.10.6"
  }
 },
 "nbformat": 4,
 "nbformat_minor": 5
}
